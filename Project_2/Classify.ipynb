{
 "cells": [
  {
   "cell_type": "code",
   "execution_count": null,
   "metadata": {
    "id": "d69Rgj_j1JfP",
    "tags": []
   },
   "outputs": [],
   "source": [
    "!pip install accelerate -U\n",
    "!pip install transformers[torch]\n"
   ]
  },
  {
   "cell_type": "code",
   "execution_count": null,
   "metadata": {
    "tags": []
   },
   "outputs": [],
   "source": [
    "!pip show accelerate\n"
   ]
  },
  {
   "cell_type": "code",
   "execution_count": 3,
   "metadata": {
    "id": "6wtfEV4h1Lo3"
   },
   "outputs": [
    {
     "name": "stderr",
     "output_type": "stream",
     "text": [
      "'HTTPSConnectionPool(host='huggingface.co', port=443): Max retries exceeded with url: /bert-base-chinese/resolve/main/vocab.txt (Caused by ConnectTimeoutError(<urllib3.connection.HTTPSConnection object at 0x000002B60545E3D0>, 'Connection to huggingface.co timed out. (connect timeout=10)'))' thrown while requesting HEAD https://huggingface.co/bert-base-chinese/resolve/main/vocab.txt\n"
     ]
    },
    {
     "data": {
      "application/vnd.jupyter.widget-view+json": {
       "model_id": "",
       "version_major": 2,
       "version_minor": 0
      },
      "text/plain": [
       "Map:   0%|          | 0/2000 [00:00<?, ? examples/s]"
      ]
     },
     "metadata": {},
     "output_type": "display_data"
    },
    {
     "data": {
      "application/vnd.jupyter.widget-view+json": {
       "model_id": "",
       "version_major": 2,
       "version_minor": 0
      },
      "text/plain": [
       "Map:   0%|          | 0/400 [00:00<?, ? examples/s]"
      ]
     },
     "metadata": {},
     "output_type": "display_data"
    },
    {
     "data": {
      "application/vnd.jupyter.widget-view+json": {
       "model_id": "",
       "version_major": 2,
       "version_minor": 0
      },
      "text/plain": [
       "Map:   0%|          | 0/2000 [00:00<?, ? examples/s]"
      ]
     },
     "metadata": {},
     "output_type": "display_data"
    },
    {
     "data": {
      "application/vnd.jupyter.widget-view+json": {
       "model_id": "",
       "version_major": 2,
       "version_minor": 0
      },
      "text/plain": [
       "Map:   0%|          | 0/400 [00:00<?, ? examples/s]"
      ]
     },
     "metadata": {},
     "output_type": "display_data"
    },
    {
     "name": "stderr",
     "output_type": "stream",
     "text": [
      "Some weights of BertForSequenceClassification were not initialized from the model checkpoint at bert-base-chinese and are newly initialized: ['classifier.weight', 'classifier.bias']\n",
      "You should probably TRAIN this model on a down-stream task to be able to use it for predictions and inference.\n",
      "C:\\Users\\Administrator.JINBAOSLAPTOP\\anaconda3\\Lib\\site-packages\\accelerate\\accelerator.py:444: FutureWarning: Passing the following arguments to `Accelerator` is deprecated and will be removed in version 1.0 of Accelerate: dict_keys(['dispatch_batches']). Please pass an `accelerate.DataLoaderConfiguration` instead: \n",
      "dataloader_config = DataLoaderConfiguration(dispatch_batches=None)\n",
      "  warnings.warn(\n"
     ]
    },
    {
     "data": {
      "text/html": [
       "\n",
       "    <div>\n",
       "      \n",
       "      <progress value='600' max='600' style='width:300px; height:20px; vertical-align: middle;'></progress>\n",
       "      [600/600 3:34:31, Epoch 3/3]\n",
       "    </div>\n",
       "    <table border=\"1\" class=\"dataframe\">\n",
       "  <thead>\n",
       " <tr style=\"text-align: left;\">\n",
       "      <th>Epoch</th>\n",
       "      <th>Training Loss</th>\n",
       "      <th>Validation Loss</th>\n",
       "    </tr>\n",
       "  </thead>\n",
       "  <tbody>\n",
       "    <tr>\n",
       "      <td>1</td>\n",
       "      <td>0.531000</td>\n",
       "      <td>0.572484</td>\n",
       "    </tr>\n",
       "    <tr>\n",
       "      <td>2</td>\n",
       "      <td>0.534400</td>\n",
       "      <td>0.567005</td>\n",
       "    </tr>\n",
       "    <tr>\n",
       "      <td>3</td>\n",
       "      <td>0.429100</td>\n",
       "      <td>0.476339</td>\n",
       "    </tr>\n",
       "  </tbody>\n",
       "</table><p>"
      ],
      "text/plain": [
       "<IPython.core.display.HTML object>"
      ]
     },
     "metadata": {},
     "output_type": "display_data"
    },
    {
     "data": {
      "text/html": [
       "\n",
       "    <div>\n",
       "      \n",
       "      <progress value='40' max='40' style='width:300px; height:20px; vertical-align: middle;'></progress>\n",
       "      [40/40 05:20]\n",
       "    </div>\n",
       "    "
      ],
      "text/plain": [
       "<IPython.core.display.HTML object>"
      ]
     },
     "metadata": {},
     "output_type": "display_data"
    },
    {
     "name": "stdout",
     "output_type": "stream",
     "text": [
      "{'eval_loss': 0.476338654756546, 'eval_runtime': 328.1198, 'eval_samples_per_second': 1.219, 'eval_steps_per_second': 0.122, 'epoch': 3.0}\n"
     ]
    }
   ],
   "source": [
    "import pandas as pd\n",
    "from transformers import BertTokenizer, BertForSequenceClassification, Trainer, TrainingArguments\n",
    "from datasets import Dataset\n",
    "\n",
    "# 加载数据\n",
    "data_path = './data/'\n",
    "train_df = pd.read_csv(data_path + 'train.csv')\n",
    "test_df = pd.read_csv(data_path + 'test.csv')\n",
    "\n",
    "train_df = train_df[['review', 'star']]\n",
    "train_df = train_df.sample(n=2000, random_state=41)  # 确保有足够的数据进行训练和评估\n",
    "test_df = test_df[['review', 'star']]\n",
    "test_df = test_df.sample(n=400, random_state=21)\n",
    "\n",
    "# 初始化分词器\n",
    "tokenizer = BertTokenizer.from_pretrained('bert-base-chinese')\n",
    "\n",
    "# 数据预处理函数\n",
    "def preprocess_data(df):\n",
    "    def tokenize_function(examples):\n",
    "        return tokenizer(examples['review'], truncation=True, padding=True)\n",
    "\n",
    "    dataset = Dataset.from_pandas(df)\n",
    "    tokenized_dataset = dataset.map(tokenize_function, batched=True)\n",
    "    return tokenized_dataset\n",
    "\n",
    "# 预处理训练集和测试集\n",
    "train_dataset = preprocess_data(train_df)\n",
    "test_dataset = preprocess_data(test_df)\n",
    "\n",
    "# 添加标签\n",
    "def add_labels(example):\n",
    "    example['labels'] = float(example['star'])  # 确保标签是浮点类型用于回归任务\n",
    "    return example\n",
    "\n",
    "train_dataset = train_dataset.map(add_labels)\n",
    "test_dataset = test_dataset.map(add_labels)\n",
    "\n",
    "# 加载预训练的BERT模型\n",
    "model = BertForSequenceClassification.from_pretrained('bert-base-chinese', num_labels=1)  # num_labels=1 表示回归任务\n",
    "\n",
    "# 定义训练参数\n",
    "training_args = TrainingArguments(\n",
    "    output_dir='./results',\n",
    "    evaluation_strategy=\"epoch\",\n",
    "    learning_rate=2e-5,\n",
    "    per_device_train_batch_size=10,\n",
    "    per_device_eval_batch_size=10,\n",
    "    num_train_epochs=3,\n",
    "    weight_decay=0.01,\n",
    "    logging_dir='./logs',  # 用于存储日志\n",
    "    logging_steps=10,\n",
    ")\n",
    "\n",
    "# 创建Trainer实例\n",
    "trainer = Trainer(\n",
    "    model=model,\n",
    "    args=training_args,\n",
    "    train_dataset=train_dataset,\n",
    "    eval_dataset=test_dataset,\n",
    ")\n",
    "\n",
    "# 开始训练\n",
    "trainer.train()\n",
    "\n",
    "# 评估模型\n",
    "results = trainer.evaluate()\n",
    "print(results)\n",
    "\n",
    "# 保存模型\n",
    "trainer.save_model('./results/final_model')\n"
   ]
  },
  {
   "cell_type": "code",
   "execution_count": null,
   "metadata": {
    "id": "uKv7Sx7CBnAb"
   },
   "outputs": [],
   "source": [
    "!pip install tensorflow tensorboard\n"
   ]
  },
  {
   "cell_type": "code",
   "execution_count": 9,
   "metadata": {
    "id": "9xspq1LmCXoG"
   },
   "outputs": [
    {
     "name": "stdout",
     "output_type": "stream",
     "text": [
      "All tags for ./logs/events.out.tfevents.1719345301.JinbaosLaptop.6116.0: ['train/loss', 'train/learning_rate', 'train/epoch', 'eval/loss', 'eval/runtime', 'eval/samples_per_second', 'eval/steps_per_second', 'train/train_runtime', 'train/train_samples_per_second', 'train/train_steps_per_second', 'train/total_flos', 'train/train_loss']\n",
      "Train losses (File 1): [6.51800012588501, 1.2283999919891357, 1.1224000453948975, 1.0979000329971313, 0.8183000087738037, 0.9265000224113464, 0.8901000022888184, 1.0827000141143799, 0.9692000150680542, 0.6226999759674072]\n",
      "Eval losses (File 1): [0.5724840760231018, 0.5670046210289001, 0.476338654756546]\n"
     ]
    },
    {
     "data": {
      "image/png": "[encoded data removed]",
      "text/plain": [
       "<Figure size 800x600 with 1 Axes>"
      ]
     },
     "metadata": {},
     "output_type": "display_data"
    }
   ],
   "source": [
    "import tensorflow as tf\n",
    "from tensorboard.backend.event_processing.event_accumulator import EventAccumulator\n",
    "import matplotlib.pyplot as plt\n",
    "\n",
    "def load_and_extract_losses(log_file):\n",
    "    event_acc = EventAccumulator(log_file)\n",
    "    event_acc.Reload()\n",
    "\n",
    "    tags = event_acc.Tags()['scalars']\n",
    "    print(f\"All tags for {log_file}: {tags}\")\n",
    "\n",
    "    train_losses = []\n",
    "    eval_losses = []\n",
    "\n",
    "    if 'train/loss' in tags:\n",
    "        train_events = event_acc.Scalars('train/loss')\n",
    "        train_losses = [event.value for event in train_events]\n",
    "    else:\n",
    "        print(f\"No 'train/loss' tag found in {log_file}.\")\n",
    "\n",
    "    if 'eval/loss' in tags:\n",
    "        eval_events = event_acc.Scalars('eval/loss')\n",
    "        eval_losses = [event.value for event in eval_events]\n",
    "    else:\n",
    "        print(f\"No 'eval/loss' tag found in {log_file}.\")\n",
    "\n",
    "    return train_losses, eval_losses\n",
    "\n",
    "# 加载并提取第一个事件文件的损失数据\n",
    "log_file1 = './logs/events.out.tfevents.1719345301.JinbaosLaptop.6116.0'\n",
    "train_losses1, eval_losses1 = load_and_extract_losses(log_file1)\n",
    "\n",
    "# 检查数据是否正确提取\n",
    "print(f\"Train losses (File 1): {train_losses1[:10]}\")\n",
    "print(f\"Eval losses (File 1): {eval_losses1[:10]}\")\n",
    "\n",
    "# 绘制损失曲线\n",
    "plt.figure(figsize=(8, 6))\n",
    "\n",
    "if train_losses1:\n",
    "    plt.plot(train_losses1, label='Training Loss')\n",
    "plt.plot(eval_losses1, label='Validation Loss')\n",
    "plt.xlabel('Steps')\n",
    "plt.ylabel('Loss')\n",
    "plt.title('Training and Validation Loss (File 1)')\n",
    "plt.legend()\n",
    "plt.grid(True)\n",
    "\n",
    "plt.tight_layout()\n",
    "plt.show()\n"
   ]
  },
  {
   "cell_type": "code",
   "execution_count": 25,
   "metadata": {
    "tags": []
   },
   "outputs": [
    {
     "name": "stdout",
     "output_type": "stream",
     "text": [
      "2.2217910289764404\n"
     ]
    }
   ],
   "source": [
    "# 测试\n",
    "import torch\n",
    "from transformers import BertTokenizer, BertForSequenceClassification\n",
    "\n",
    "model_name = './results/final_model'\n",
    "tokenizer = BertTokenizer.from_pretrained('bert-base-chinese')\n",
    "model = BertForSequenceClassification.from_pretrained(model_name)\n",
    "\n",
    "texts = [\"就菜的口味来说，还是可以的，有的菜略咸，例如全家福，但是总体就家常菜来说还不错，淮扬菜鲜咸的味道基本都有；就团购的质量来说，欠诚意，小炒鳝丝变辣椒炒肉丝，其中成本降低多少我们就不说了，你至少应该在团购网页上说清楚，遇到较真的顾客不会像我们这么好说话的，不是自己给自己找麻烦么；红烧牛肉丸中的牛肉丸吃在嘴里就像超市里卖的撒尿牛丸，真的有牛肉吗？我怀疑。其实口味还不错的一家店，如果诚意满满，好好做生意，我觉得应该有不少回头客，但是这样偷梁换柱做团购，是指望能捞一笔是一笔么？没有这个量还做什么团购？\"]\n",
    "inputs = tokenizer(texts, padding=True, truncation=True, return_tensors=\"pt\")\n",
    "\n",
    "model.eval()\n",
    "\n",
    "with torch.no_grad():\n",
    "    outputs = model(**inputs)\n",
    "    logits = outputs.logits\n",
    "\n",
    "predictions = logits.squeeze().tolist()\n",
    "print(predictions)\n"
   ]
  },
  {
   "cell_type": "code",
   "execution_count": null,
   "metadata": {},
   "outputs": [],
   "source": []
  }
 ],
 "metadata": {
  "accelerator": "GPU",
  "colab": {
   "authorship_tag": "ABX9TyMyxTByqInETlRsAHxJ+nAO",
   "gpuType": "T4",
   "mount_file_id": "https://github.com/Jinbao2333/AIFundamentals2024/blob/main/Project_2/Classify.ipynb",
   "private_outputs": true,
   "provenance": [
    {
     "file_id": "https://github.com/Jinbao2333/AIFundamentals2024/blob/main/Project_2/Classify.ipynb",
     "timestamp": 1719330739063
    }
   ]
  },
  "kernelspec": {
   "display_name": "Python 3 (ipykernel)",
   "language": "python",
   "name": "python3"
  },
  "language_info": {
   "codemirror_mode": {
    "name": "ipython",
    "version": 3
   },
   "file_extension": ".py",
   "mimetype": "text/x-python",
   "name": "python",
   "nbconvert_exporter": "python",
   "pygments_lexer": "ipython3",
   "version": "3.11.5"
  }
 },
 "nbformat": 4,
 "nbformat_minor": 4
}
