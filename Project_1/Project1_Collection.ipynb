{
 "cells": [
  {
   "cell_type": "markdown",
   "id": "521cfc57",
   "metadata": {},
   "source": [
    "## Shortest Path Problem in Graphs"
   ]
  },
  {
   "cell_type": "markdown",
   "id": "50ab5be0-3199-4414-9cfe-aa272ed4e360",
   "metadata": {},
   "source": [
    "### 1.1 Shortest Path using BFS"
   ]
  },
  {
   "cell_type": "code",
   "execution_count": 3,
   "id": "272c2e7d-3c04-46d9-8061-116f47eff33d",
   "metadata": {},
   "outputs": [
    {
     "name": "stdout",
     "output_type": "stream",
     "text": [
      " 4 5\n",
      " 1 2\n",
      " 2 3\n",
      " 3 4\n",
      " 1 3\n",
      " 1 4\n"
     ]
    },
    {
     "name": "stdout",
     "output_type": "stream",
     "text": [
      "1\n"
     ]
    }
   ],
   "source": [
    "from collections import deque\n",
    "\n",
    "def bfs_shortest_path(graph, start, end):\n",
    "    visited = set()\n",
    "    queue = deque([(start, 0)])  # (节点, 到达该节点的距离)\n",
    "    \n",
    "    while queue:\n",
    "        node, distance = queue.popleft()\n",
    "        if node == end:\n",
    "            return distance\n",
    "        visited.add(node)\n",
    "        for neighbor in graph[node]:\n",
    "            if neighbor not in visited:\n",
    "                queue.append((neighbor, distance + 1))\n",
    "\n",
    "    return -1\n",
    "\n",
    "n, m = map(int, input().split())\n",
    "graph = {i: [] for i in range(1, n+1)}\n",
    "\n",
    "for _ in range(m):\n",
    "    u, v = map(int, input().split())\n",
    "    graph[u].append(v)\n",
    "    graph[v].append(u)\n",
    "\n",
    "print(bfs_shortest_path(graph, 1, n))"
   ]
  },
  {
   "cell_type": "markdown",
   "id": "645cb5cf-e5f2-4ac9-b51d-f60de43a4f52",
   "metadata": {},
   "source": [
    "### 1.2 Naive Dijkstra"
   ]
  },
  {
   "cell_type": "code",
   "execution_count": 5,
   "id": "801d8573-6d3b-499c-9954-3093a2545d52",
   "metadata": {},
   "outputs": [
    {
     "name": "stdout",
     "output_type": "stream",
     "text": [
      " 3 3\n",
      " 1 2 2\n",
      " 2 3 1\n",
      " 1 3 4\n"
     ]
    },
    {
     "name": "stdout",
     "output_type": "stream",
     "text": [
      "3\n"
     ]
    }
   ],
   "source": [
    "def naive_dijkstra(n, m, edges):\n",
    "    # 创建邻接表\n",
    "    h = [[] for _ in range(n + 1)]\n",
    "    # 初始化距离数组，将所有节点距离初始化为无穷大\n",
    "    d = [float('inf')] * (n + 1)\n",
    "    # 将起始节点距离设置为 0\n",
    "    d[1] = 0\n",
    "    # 标记数组，用于记录节点是否已被访问\n",
    "    vis = [False] * (n + 1)\n",
    "\n",
    "    # 构建邻接表\n",
    "    for u, v, w in edges:\n",
    "        h[u].append((v, w))\n",
    "\n",
    "    # 进行 n 次迭代，每次迭代选择一个距离最小且未被访问的节点进行松弛操作\n",
    "    for _ in range(n):\n",
    "        min_dist = float('inf')\n",
    "        min_idx = -1\n",
    "        for i in range(1, n + 1):\n",
    "            if not vis[i] and d[i] < min_dist:\n",
    "                min_dist = d[i]\n",
    "                min_idx = i\n",
    "        # 如果没有找到可以松弛的节点，则退出循环\n",
    "        if min_idx == -1:\n",
    "            break\n",
    "        # 标记找到的节点为已访问\n",
    "        vis[min_idx] = True\n",
    "        # 对找到的节点的邻居节点进行松弛操作\n",
    "        for v, w in h[min_idx]:\n",
    "            if d[v] > d[min_idx] + w:\n",
    "                d[v] = d[min_idx] + w\n",
    "\n",
    "    if d[n] != float('inf'):\n",
    "        return d[n]\n",
    "    return -1\n",
    "\n",
    "n, m = map(int, input().split())\n",
    "edges = []\n",
    "for _ in range(m):\n",
    "    x, y, z = map(int, input().split())\n",
    "    edges.append((x, y, z))\n",
    "\n",
    "print(naive_dijkstra(n, m, edges))"
   ]
  },
  {
   "cell_type": "markdown",
   "id": "0dffb80f-4684-4e63-853d-03ad92159097",
   "metadata": {},
   "source": [
    "### 1.3 Heap-Optimized Dijkstra"
   ]
  },
  {
   "cell_type": "code",
   "execution_count": null,
   "id": "45841a1c-fe2c-48e5-bac5-ffd9dd7b9add",
   "metadata": {},
   "outputs": [],
   "source": [
    "import heapq\n",
    "from collections import defaultdict\n",
    "\n",
    "def heap_opt_dijkstra(n, m, edges):\n",
    "    # 创建邻接表\n",
    "    h = defaultdict(list)\n",
    "    # 初始化距离数组，将所有节点距离初始化为无穷大\n",
    "    d = [float('inf')] * (n + 1)\n",
    "    # 将起始节点距离设置为 0\n",
    "    d[1] = 0\n",
    "    # 标记数组，用于记录节点是否已被访问\n",
    "    vis = [False] * (n + 1)\n",
    "    # 优先队列，用于存储 (距离, 节点) 元组，按距离升序排列\n",
    "    q = [(0, 1)]\n",
    "\n",
    "    # 构建邻接表\n",
    "    for u, v, w in edges:\n",
    "        h[u].append((v, w))\n",
    "\n",
    "    # Dijkstra 算法\n",
    "    while q:\n",
    "        distance, begin = heapq.heappop(q)\n",
    "        if vis[begin]:\n",
    "            continue\n",
    "        vis[begin] = True\n",
    "        # 遍历当前节点的所有邻居节点\n",
    "        for j, w in h[begin]:\n",
    "            # 如果经当前节点到达邻居节点的距离小于之前记录的距离，则更新距离，并将邻居节点加入优先队列\n",
    "            if d[j] > d[begin] + w:\n",
    "                d[j] = d[begin] + w\n",
    "                heapq.heappush(q, (d[j], j))\n",
    "\n",
    "    if d[n] != float('inf'):\n",
    "        return d[n]\n",
    "    return -1\n",
    "\n",
    "n, m = map(int, input().split())\n",
    "edges = []\n",
    "for _ in range(m):\n",
    "    x, y, z = map(int, input().split())\n",
    "    edges.append((x, y, z))\n",
    "\n",
    "print(heap_opt_dijkstra(n, m, edges))"
   ]
  },
  {
   "cell_type": "markdown",
   "id": "17b360db",
   "metadata": {},
   "source": [
    "## Eight Puzzle Problem"
   ]
  },
  {
   "cell_type": "markdown",
   "id": "5b777e8f-de79-4d41-9ebb-95529aeec42e",
   "metadata": {},
   "source": [
    "### 2.1 Is Solvable using DFS"
   ]
  },
  {
   "cell_type": "code",
   "execution_count": 8,
   "id": "1411dcf0-7703-4a78-8f3e-56554cc94c91",
   "metadata": {},
   "outputs": [
    {
     "name": "stdout",
     "output_type": "stream",
     "text": [
      " 2 3 4 5 1 x 7 6 8\n"
     ]
    },
    {
     "name": "stdout",
     "output_type": "stream",
     "text": [
      "0\n"
     ]
    }
   ],
   "source": [
    "def is_solvable(board):\n",
    "    # 将字符串形式的输入转换为二维列表\n",
    "    board_1d = board.split()\n",
    "    board_1d = [int(x) if x != 'x' else 0 for x in board_1d]\n",
    "    board_2d = [board_1d[i:i+3] for i in range(0, len(board_1d), 3)]\n",
    "\n",
    "    # 定义目标状态\n",
    "    target_state = [1, 2, 3, 4, 5, 6, 7, 8, 0]\n",
    "\n",
    "    # 深度优先搜索函数\n",
    "    def dfs(current_state):\n",
    "        stack = [(current_state, set())]\n",
    "        \n",
    "        while stack:\n",
    "            current_state, visited = stack.pop()\n",
    "            if current_state == target_state:\n",
    "                return True\n",
    "            \n",
    "            visited.add(tuple(current_state))\n",
    "            blank_index = current_state.index(0)\n",
    "            row, col = divmod(blank_index, 3)\n",
    "            directions = [(-1, 0), (1, 0), (0, -1), (0, 1)]\n",
    "            \n",
    "            for dr, dc in directions:\n",
    "                new_row, new_col = row + dr, col + dc\n",
    "                if 0 <= new_row < 3 and 0 <= new_col < 3:\n",
    "                    new_state = current_state[:]\n",
    "                    new_blank_index = new_row * 3 + new_col\n",
    "                    new_state[blank_index], new_state[new_blank_index] = new_state[new_blank_index], new_state[blank_index]\n",
    "                    if tuple(new_state) not in visited:\n",
    "                        stack.append((new_state, visited))\n",
    "        return False\n",
    "    \n",
    "    # 初始状态即为当前状态\n",
    "    initial_state = board_2d\n",
    "    \n",
    "    # 调用深度优先搜索函数进行判断\n",
    "    return dfs(sum(initial_state, []))\n",
    "\n",
    "# 示例调用\n",
    "input_board = input()\n",
    "if is_solvable(input_board):\n",
    "    print(\"1\")\n",
    "else:\n",
    "    print(\"0\")\n"
   ]
  },
  {
   "cell_type": "markdown",
   "id": "f89863a7-c4e6-4c86-8f64-f408a0a6a750",
   "metadata": {},
   "source": [
    "### 2.2 Minimal Steps using BFS"
   ]
  },
  {
   "cell_type": "code",
   "execution_count": 2,
   "id": "8f869ef2-f09d-4bc2-82a5-23f3843505ae",
   "metadata": {},
   "outputs": [
    {
     "name": "stdout",
     "output_type": "stream",
     "text": [
      "19\n"
     ]
    }
   ],
   "source": [
    "from collections import deque\n",
    "\n",
    "def count_inversions(board):\n",
    "    inversion_count = 0\n",
    "    board_1d = [x for x in board if x != 'x']\n",
    "    for i in range(len(board_1d)):\n",
    "        for j in range(i + 1, len(board_1d)):\n",
    "            if board_1d[i] > board_1d[j]:\n",
    "                inversion_count += 1\n",
    "    return inversion_count\n",
    "\n",
    "def generate_moves(board):\n",
    "    moves = []\n",
    "    for i in range(len(board)):\n",
    "        if board[i] == 'x':\n",
    "            blank_index = i\n",
    "    rows = [board[i: i+3] for i in range(0, len(board), 3)]\n",
    "    blank_i, blank_j = divmod(blank_index, 3)\n",
    "    for move in [(0, 1), (0, -1), (1, 0), (-1, 0)]:\n",
    "        new_i, new_j = blank_i + move[0], blank_j + move[1]\n",
    "        if 0 <= new_i < 3 and 0 <= new_j < 3:\n",
    "            new_blank_index = new_i * 3 + new_j\n",
    "            new_board = board[:]\n",
    "            new_board[blank_index], new_board[new_blank_index] = new_board[new_blank_index], new_board[blank_index]\n",
    "            moves.append(new_board)\n",
    "    return moves\n",
    "\n",
    "def bfs(board, target_state):\n",
    "    queue = deque([(board, 0)])\n",
    "    visited = set()\n",
    "    while queue:\n",
    "        current_board, steps = queue.popleft()\n",
    "        if current_board == target_state:\n",
    "            return steps\n",
    "        visited.add(tuple(current_board))\n",
    "        for move in generate_moves(current_board):\n",
    "            if tuple(move) not in visited:\n",
    "                queue.append((move, steps + 1))\n",
    "                visited.add(tuple(move))\n",
    "    return -1\n",
    "\n",
    "target_state = ['1', '2', '3', '4', '5', '6', '7', '8', 'x']\n",
    "input_board = input().split()\n",
    "if count_inversions(input_board) % 2 == 0:\n",
    "    steps = bfs(input_board, target_state)\n",
    "    if steps != -1:\n",
    "        print(steps)\n",
    "    else:\n",
    "        print(\"-1000\")\n",
    "else:\n",
    "    print(\"-1\")"
   ]
  },
  {
   "cell_type": "markdown",
   "id": "ea530700",
   "metadata": {},
   "source": [
    "### 2.3 Detailed Minimal Steps using A*"
   ]
  },
  {
   "cell_type": "code",
   "execution_count": null,
   "id": "bec858fb",
   "metadata": {},
   "outputs": [],
   "source": [
    "import heapq\n",
    "\n",
    "def count_inversions(board):\n",
    "    inversion_count = 0\n",
    "    board_1d = [x for x in board if x != 'x']\n",
    "    for i in range(len(board_1d)):\n",
    "        for j in range(i + 1, len(board_1d)):\n",
    "            if board_1d[i] > board_1d[j]:\n",
    "                inversion_count += 1\n",
    "    return inversion_count\n",
    "\n",
    "def generate_moves(board):\n",
    "    moves = []\n",
    "    for i in range(len(board)):\n",
    "        if board[i] == 'x':\n",
    "            blank_index = i\n",
    "    blank_i, blank_j = divmod(blank_index, 3)\n",
    "    for move, dir_name in [((0, 1), 'r'), ((0, -1), 'l'), ((1, 0), 'd'), ((-1, 0), 'u')]:\n",
    "        new_i, new_j = blank_i + move[0], blank_j + move[1]\n",
    "        if 0 <= new_i < 3 and 0 <= new_j < 3:\n",
    "            new_blank_index = new_i * 3 + new_j\n",
    "            new_board = board[:]\n",
    "            new_board[blank_index], new_board[new_blank_index] = new_board[new_blank_index], new_board[blank_index]\n",
    "            moves.append((new_board, dir_name))\n",
    "    return moves\n",
    "\n",
    "def cost_estimate(board, target_state):\n",
    "    count = 0\n",
    "    for i in range(len(board)):\n",
    "        if board[i] != target_state[i]:\n",
    "            count += 1\n",
    "    return count\n",
    "\n",
    "def a_star(board, target_state):\n",
    "    open_set = [(0 + cost_estimate(board, target_state), board, \"\")]\n",
    "    heapq.heapify(open_set)\n",
    "    closed_set = set()\n",
    "    while open_set:\n",
    "        f, current_board, moves_so_far = heapq.heappop(open_set)\n",
    "        if current_board == target_state:\n",
    "            return moves_so_far\n",
    "        if tuple(current_board) not in closed_set:\n",
    "            closed_set.add(tuple(current_board))\n",
    "            for next_board, move_dir in generate_moves(current_board):\n",
    "                g = len(moves_so_far) + 1\n",
    "                h = cost_estimate(next_board, target_state)\n",
    "                f = g + h\n",
    "                heapq.heappush(open_set, (f, next_board, moves_so_far + move_dir))\n",
    "\n",
    "    return \"unsolvable\"\n",
    "\n",
    "target_state = ['1', '2', '3', '4', '5', '6', '7', '8', 'x']\n",
    "input_board = input().split()\n",
    "if count_inversions(input_board) % 2 == 0:\n",
    "    steps = a_star(input_board, target_state)\n",
    "    if steps != \"unsolvable\":\n",
    "        print(steps)\n",
    "    else:\n",
    "        print(\"-error\")\n",
    "else:\n",
    "    print(\"unsolvable\")"
   ]
  }
 ],
 "metadata": {
  "kernelspec": {
   "display_name": "Python 3 (ipykernel)",
   "language": "python",
   "name": "python3"
  },
  "language_info": {
   "codemirror_mode": {
    "name": "ipython",
    "version": 3
   },
   "file_extension": ".py",
   "mimetype": "text/x-python",
   "name": "python",
   "nbconvert_exporter": "python",
   "pygments_lexer": "ipython3",
   "version": "3.11.0"
  }
 },
 "nbformat": 4,
 "nbformat_minor": 5
}
